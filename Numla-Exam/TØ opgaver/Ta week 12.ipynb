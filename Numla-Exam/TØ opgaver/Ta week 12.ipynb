{
 "cells": [
  {
   "cell_type": "code",
   "execution_count": 14,
   "id": "07babbb2-fe86-497e-b9ab-339af265b996",
   "metadata": {},
   "outputs": [],
   "source": [
    "import numpy as np\n",
    "import matplotlib.pyplot as plt\n",
    "import sympy as sy"
   ]
  },
  {
   "cell_type": "markdown",
   "id": "116aefe5-efbe-4eb4-ac4a-c718c3ee5268",
   "metadata": {},
   "source": [
    "# Opgave 12.1.\n",
    "Givet matricen\n",
    "$$\n",
    "A=\\left[\\begin{array}{ll}\n",
    "7 & 1 \\\\\n",
    "6 & 2\n",
    "\\end{array}\\right],\n",
    "$$\n",
    "bestem dens egenværdier. Find en basis for $\\mathbb{R}^2$ bestående af egenvektorer for $A$.\n",
    "\n",
    "\n",
    "\n"
   ]
  },
  {
   "cell_type": "markdown",
   "id": "c8d97818-38ae-4f20-a4f9-a7a99dbc21ea",
   "metadata": {},
   "source": [
    "$$\n",
    "\\begin{bmatrix}\n",
    "7 & 1\\\\\n",
    "6 & 2\n",
    "\\end{bmatrix}\n",
    "-\n",
    "\\lambda\n",
    "\\begin{bmatrix}\n",
    "\\lambda & 0\\\\\n",
    "0 & \\lambda\n",
    "\\end{bmatrix}\n",
    "=\n",
    "\\begin{bmatrix}\n",
    "7-\\lambda & 1\\\\\n",
    "6 & 2-\\lambda\n",
    "\\end{bmatrix}\n",
    "$$\n",
    "Udfra proposition 21.2 har vi at $det(A-\\lambda I_2)=0$ for alle egenværdier. Derved har vi:\n",
    "$$\n",
    "det(\n",
    "\\begin{bmatrix}\n",
    "7-\\lambda & 1\\\\\n",
    "6 & 2-\\lambda\n",
    "\\end{bmatrix})\n",
    "=\n",
    "(7-\\lambda)(2-\\lambda)-1\\cdot6 =\n",
    "\\lambda^2 - 9\\lambda + 14 - 6 =\n",
    "\\lambda^2 - 9\\lambda + 8\n",
    "$$\n",
    "for at tjekke at 8 og 1 er egenværdier kan man:\n",
    "$$\n",
    "8^2 - 9*8 + 8= 0\n",
    "$$\n",
    "og\n",
    "$$\n",
    "1^2-9+8 = 0\n",
    "$$\n",
    "Alternativt i python:"
   ]
  },
  {
   "cell_type": "code",
   "execution_count": 2,
   "id": "fc808c73-aeae-4142-87a4-dd878c794c35",
   "metadata": {},
   "outputs": [
    {
     "name": "stdout",
     "output_type": "stream",
     "text": [
      "Egenværdier:\n",
      " [8. 1.]\n",
      "\n",
      " egenvektorer:\n",
      " [[ 0.70710678 -0.16439899]\n",
      " [ 0.70710678  0.98639392]]\n"
     ]
    }
   ],
   "source": [
    "a = np.array([[7,1],\n",
    "              [6,2]])\n",
    "\n",
    "e, b = np.linalg.eig(a)\n",
    "print(\"Egenværdier:\\n\", e)\n",
    "print(\"\\n egenvektorer:\\n\",b)"
   ]
  },
  {
   "cell_type": "markdown",
   "id": "39c11287-ba3a-4bb9-995f-41d6c9ee84b9",
   "metadata": {},
   "source": [
    "# Opgave 12.2.\n",
    "Betragt den øvre triangulær matrix\n",
    "$$\n",
    "A=\\left[\\begin{array}{ccc}\n",
    "6 & -3 & 2 \\\\\n",
    "0 & 2 & 7 \\\\\n",
    "0 & 0 & -1\n",
    "\\end{array}\\right] .\n",
    "$$\n",
    "\n",
    "Vis at 6, 2 og -1 er egenværdier for $A$, og bestem tilhørende egenvektorer. Vis desuden at\n",
    "$$\n",
    "\\left(A-6 I_3\\right)\\left(A-2 I_3\\right)\\left(A+I_3\\right)=0_3 .\n",
    "$$\n",
    "^12.1\n",
    "\n",
    "Gøre rede at for en generel øvre triangulær matrix er indgangene på diagonalen netop matricens egenværdier. Er sådan en matrix nødvendigvis diagonaliserbar? Opfylder den en ligning af typen (12.1)?"
   ]
  },
  {
   "cell_type": "code",
   "execution_count": 3,
   "id": "6ea4fb3f-fd1f-405a-a669-5f7e63ea44a1",
   "metadata": {},
   "outputs": [
    {
     "name": "stdout",
     "output_type": "stream",
     "text": [
      "[[ 1.          0.6        -0.45182352]\n",
      " [ 0.          0.8        -0.81997603]\n",
      " [ 0.          0.          0.3514183 ]]\n",
      "[[ 6. -3.  2.]\n",
      " [ 0.  2.  7.]\n",
      " [ 0.  0. -1.]]\n"
     ]
    }
   ],
   "source": [
    "# Test med den er diagonaliserbar\n",
    "A = np.array([[6, -3, 2],\n",
    "              [0, 2, 7],\n",
    "              [0, 0, -1]])\n",
    "\n",
    "e,v = np.linalg.eig(A)\n",
    "print(v)\n",
    "Lamb = np.diag(e)\n",
    "test = v @ Lamb @ np.linalg.inv(v)\n",
    "print(test)"
   ]
  },
  {
   "cell_type": "markdown",
   "id": "436a2c00-2916-4333-bbc1-0106e97c382b",
   "metadata": {},
   "source": [
    "Matricer hvor den første søjle er 0 ikke invertibel.\n",
    "\n",
    "matricer hvor den \"nedre venstre indre matrice\" er nul er ikke invertibel.\n",
    "\n",
    "Matricer hvor den nedderste række er nul er ikke invertibel.\n",
    "\n",
    "Derved når egenværdien er lig med en værdi i diogonalen, er en af disse ting opfyldt og de er derfor egenværdier.\n",
    "\n",
    "De er diagonoliserbare.\n",
    "\n",
    "12.1 virker altid, grundet matrixmultiplikation"
   ]
  },
  {
   "cell_type": "markdown",
   "id": "9d899184-44da-4cd3-a899-1be8fe158976",
   "metadata": {
    "jp-MarkdownHeadingCollapsed": true
   },
   "source": [
    "## Eksmempel på hvorfor determinaten ikke kan bruges til en matrice der ikke er 2x2\n"
   ]
  },
  {
   "cell_type": "markdown",
   "id": "3f8c5e45-8e2f-4947-9731-d8072bc2ada2",
   "metadata": {},
   "source": [
    "Her vil vi benytte os af eksempel 21.4. Derved vil vi tjekke at $(A-\\lambda I_3) = 0$\n",
    "\n",
    "$$\n",
    "\\begin{bmatrix}\n",
    "6 & -3 & 2\\\\\n",
    "0 & 2 & 7\\\\\n",
    "0 & 0 & -1\n",
    "\\end{bmatrix}\n",
    "-\\lambda\n",
    "\\begin{bmatrix}\n",
    "1 & 0 & 0\\\\\n",
    "0 & 1 & 0\\\\\n",
    "0 & 0 & 1\n",
    "\\end{bmatrix}\n",
    "= \n",
    "\\begin{bmatrix}\n",
    "6-\\lambda & -3 & 2\\\\\n",
    "0 & 2-\\lambda & 7\\\\\n",
    "0 & 0 & -1- \\lambda\n",
    "\\end{bmatrix}\n",
    "$$\n",
    "$$\n",
    "det(\\begin{bmatrix}\n",
    "6-\\lambda & -3 & 2\\\\\n",
    "0 & 2-\\lambda & 7\\\\\n",
    "0 & 0 & -1- \\lambda\n",
    "\\end{bmatrix}) =\n",
    "(6-\\lambda)det(\n",
    "\\begin{bmatrix}\n",
    "2-\\lambda & 7\\\\\n",
    "0 & -1-\\lambda\n",
    "\\end{bmatrix})\n",
    "- (-3)\\cdot det(\\begin{bmatrix}0 & 7\\\\ 0 & -1-\\lambda\\end{bmatrix})\n",
    "+\n",
    "2\\cdot det(\\begin{bmatrix}0 & 2-\\lambda\\\\ 0 & 0\\end{bmatrix})\n",
    "=\n",
    "$$"
   ]
  },
  {
   "cell_type": "markdown",
   "id": "4c295f93-b302-4375-93c0-096efaf7dbb3",
   "metadata": {},
   "source": [
    "$$\n",
    "= (6-\\lambda)((2-\\lambda)(-1-\\lambda)) =\n",
    "-\\lambda^3 + 7\\lambda^2 - 4\\lambda -12\n",
    "$$"
   ]
  },
  {
   "cell_type": "code",
   "execution_count": 4,
   "id": "3a55f7c9-5778-4e4d-8808-02a4067be6b0",
   "metadata": {},
   "outputs": [
    {
     "name": "stdout",
     "output_type": "stream",
     "text": [
      "for 6 9\n",
      "\n",
      " for 2 1\n",
      "\n",
      " for -1 7\n"
     ]
    }
   ],
   "source": [
    "def func(x):\n",
    "    return -x^3 + 7*x^2 - 4*x -12\n",
    "\n",
    "print(\"for 6\",func(6))\n",
    "print(\"\\n for 2\",func(2))\n",
    "print(\"\\n for -1\",func(-1))"
   ]
  },
  {
   "cell_type": "markdown",
   "id": "fefcfc8b-3fcc-431a-9dad-59d02ed2d43c",
   "metadata": {},
   "source": [
    "## Rigtig\n",
    "Eftersom det ovenover fejlede vil jeg benytte mig af proposition 21.2"
   ]
  },
  {
   "cell_type": "code",
   "execution_count": 5,
   "id": "b5067a23-439a-45f2-9558-5511bc744804",
   "metadata": {},
   "outputs": [
    {
     "name": "stdout",
     "output_type": "stream",
     "text": [
      "[[ 0. -3.  2.]\n",
      " [ 0. -4.  7.]\n",
      " [ 0.  0. -7.]]\n"
     ]
    },
    {
     "ename": "LinAlgError",
     "evalue": "Singular matrix",
     "output_type": "error",
     "traceback": [
      "\u001b[1;31m---------------------------------------------------------------------------\u001b[0m",
      "\u001b[1;31mLinAlgError\u001b[0m                               Traceback (most recent call last)",
      "Cell \u001b[1;32mIn[5], line 9\u001b[0m\n\u001b[0;32m      7\u001b[0m for6 \u001b[38;5;241m=\u001b[39m A\u001b[38;5;241m-\u001b[39m(l\u001b[38;5;241m*\u001b[39mI3)\n\u001b[0;32m      8\u001b[0m \u001b[38;5;28mprint\u001b[39m(for6)\n\u001b[1;32m----> 9\u001b[0m \u001b[38;5;28mprint\u001b[39m(\u001b[43mnp\u001b[49m\u001b[38;5;241;43m.\u001b[39;49m\u001b[43mlinalg\u001b[49m\u001b[38;5;241;43m.\u001b[39;49m\u001b[43minv\u001b[49m\u001b[43m(\u001b[49m\u001b[43mfor6\u001b[49m\u001b[43m)\u001b[49m)\n",
      "File \u001b[1;32m~\\AppData\\Local\\Programs\\Python\\Python312\\Lib\\site-packages\\numpy\\linalg\\linalg.py:561\u001b[0m, in \u001b[0;36minv\u001b[1;34m(a)\u001b[0m\n\u001b[0;32m    559\u001b[0m signature \u001b[38;5;241m=\u001b[39m \u001b[38;5;124m'\u001b[39m\u001b[38;5;124mD->D\u001b[39m\u001b[38;5;124m'\u001b[39m \u001b[38;5;28;01mif\u001b[39;00m isComplexType(t) \u001b[38;5;28;01melse\u001b[39;00m \u001b[38;5;124m'\u001b[39m\u001b[38;5;124md->d\u001b[39m\u001b[38;5;124m'\u001b[39m\n\u001b[0;32m    560\u001b[0m extobj \u001b[38;5;241m=\u001b[39m get_linalg_error_extobj(_raise_linalgerror_singular)\n\u001b[1;32m--> 561\u001b[0m ainv \u001b[38;5;241m=\u001b[39m \u001b[43m_umath_linalg\u001b[49m\u001b[38;5;241;43m.\u001b[39;49m\u001b[43minv\u001b[49m\u001b[43m(\u001b[49m\u001b[43ma\u001b[49m\u001b[43m,\u001b[49m\u001b[43m \u001b[49m\u001b[43msignature\u001b[49m\u001b[38;5;241;43m=\u001b[39;49m\u001b[43msignature\u001b[49m\u001b[43m,\u001b[49m\u001b[43m \u001b[49m\u001b[43mextobj\u001b[49m\u001b[38;5;241;43m=\u001b[39;49m\u001b[43mextobj\u001b[49m\u001b[43m)\u001b[49m\n\u001b[0;32m    562\u001b[0m \u001b[38;5;28;01mreturn\u001b[39;00m wrap(ainv\u001b[38;5;241m.\u001b[39mastype(result_t, copy\u001b[38;5;241m=\u001b[39m\u001b[38;5;28;01mFalse\u001b[39;00m))\n",
      "File \u001b[1;32m~\\AppData\\Local\\Programs\\Python\\Python312\\Lib\\site-packages\\numpy\\linalg\\linalg.py:112\u001b[0m, in \u001b[0;36m_raise_linalgerror_singular\u001b[1;34m(err, flag)\u001b[0m\n\u001b[0;32m    111\u001b[0m \u001b[38;5;28;01mdef\u001b[39;00m \u001b[38;5;21m_raise_linalgerror_singular\u001b[39m(err, flag):\n\u001b[1;32m--> 112\u001b[0m     \u001b[38;5;28;01mraise\u001b[39;00m LinAlgError(\u001b[38;5;124m\"\u001b[39m\u001b[38;5;124mSingular matrix\u001b[39m\u001b[38;5;124m\"\u001b[39m)\n",
      "\u001b[1;31mLinAlgError\u001b[0m: Singular matrix"
     ]
    }
   ],
   "source": [
    "A = np.array([[6, -3, 2],\n",
    "              [0, 2, 7],\n",
    "              [0, 0, -1]])\n",
    "\n",
    "l = 6\n",
    "I3 = np.identity(3)\n",
    "for6 = A-(l*I3)\n",
    "print(for6)\n",
    "print(np.linalg.inv(for6))\n",
    "\n"
   ]
  },
  {
   "cell_type": "code",
   "execution_count": null,
   "id": "65c57966-f09e-48dd-a667-18f6c27275b2",
   "metadata": {},
   "outputs": [],
   "source": [
    "l2 = 2\n",
    "I3 = np.identity(3)\n",
    "for2 = A-(l2*I3)\n",
    "print(for2)\n",
    "print(np.linalg.inv(for2))"
   ]
  },
  {
   "cell_type": "code",
   "execution_count": null,
   "id": "fda407f2-fb22-4a6f-a961-99d262d11bd4",
   "metadata": {},
   "outputs": [],
   "source": [
    "l3 = -1\n",
    "I3 = np.identity(3)\n",
    "forneg1 = A-(l3*I3)\n",
    "print(forneg1)\n",
    "print(np.linalg.inv(forneg1))"
   ]
  },
  {
   "cell_type": "code",
   "execution_count": null,
   "id": "1a95c749-d4f3-424b-9748-ddaaccd2cf86",
   "metadata": {},
   "outputs": [],
   "source": [
    "print(for6)\n",
    "print(for2)\n",
    "print(forneg1)\n",
    "print(\"other thing:\\n\",for6@for2@forneg1)"
   ]
  },
  {
   "cell_type": "markdown",
   "id": "eff72c22-1ab8-4cad-b89e-600d65285d06",
   "metadata": {},
   "source": [
    "# Opgave 12.3.\n",
    "Lad $u=(1,2,4), v=(-1,2,1)$ og sæt $A=u v^T$.\n",
    "\n",
    "(a) Bestem en basis for $N(A)$.\n",
    "\n",
    "(b) Find 2 lineært uafhængige egenvektorer for $A$ med egenværdi 0.\n",
    "\n",
    "(c) Vis at $u$ er egenvektor for $A$, og bestem dens egenværdi.\n",
    "\n",
    "(d) $\\operatorname{Er} A$ diagonaliserbar?"
   ]
  },
  {
   "cell_type": "markdown",
   "id": "5d17ce3f-b526-4416-8621-92e245852937",
   "metadata": {},
   "source": [
    "## a"
   ]
  },
  {
   "cell_type": "code",
   "execution_count": 70,
   "id": "e92b203c-e8a8-416e-8549-638462f00e5a",
   "metadata": {},
   "outputs": [
    {
     "name": "stdout",
     "output_type": "stream",
     "text": [
      "A = \n",
      " [[-1.  2.  1.]\n",
      " [-2.  4.  2.]\n",
      " [-4.  8.  4.]]\n"
     ]
    },
    {
     "data": {
      "text/plain": [
       "(Matrix([\n",
       " [1, -2.0, -1.0],\n",
       " [0,    0,    0],\n",
       " [0,    0,    0]]),\n",
       " (0,))"
      ]
     },
     "execution_count": 70,
     "metadata": {},
     "output_type": "execute_result"
    }
   ],
   "source": [
    "u = np.array([1.0,2.0,4.0])[:,np.newaxis]\n",
    "v = np.array([-1.0,2.0,1.0])[:,np.newaxis]\n",
    "\n",
    "A = u@v.T\n",
    "print(\"A = \\n\",A)\n",
    "\n",
    "\n",
    "\n",
    "sy.Matrix(A).rref()"
   ]
  },
  {
   "cell_type": "markdown",
   "id": "797b7d48-8aff-4aa7-87d4-6faa2b0d8639",
   "metadata": {},
   "source": [
    "Vi har echeolonformen:\n",
    "$$\n",
    "\\begin{bmatrix}\n",
    "1 & -2 & -1\\\\\n",
    "0 & 0 & 0\\\\\n",
    "0 & 0 & 0 \\\\\n",
    "\\end{bmatrix}\n",
    "$$"
   ]
  },
  {
   "cell_type": "markdown",
   "id": "917632b7-a5e6-4e80-b76f-34eb64334c21",
   "metadata": {},
   "source": [
    "Vi får derfor ligningen:\n",
    "$$\n",
    "x_0 -2x_1 -x_2 = 0\n",
    "$$\n",
    "Derved får vi:\n",
    "$$\n",
    "\\begin{bmatrix}\n",
    "x_0\\\\\n",
    "x_1\\\\\n",
    "x_2\n",
    "\\end{bmatrix}\n",
    "=\n",
    "\\begin{bmatrix}\n",
    "2x_1 + x_2\\\\\n",
    "x_1\\\\\n",
    "x_2\n",
    "\\end{bmatrix}\n",
    "= x_1\n",
    "\\begin{bmatrix}\n",
    "2\\\\\n",
    "1\\\\\n",
    "0\n",
    "\\end{bmatrix}\n",
    "+\n",
    "x_2\n",
    "\\begin{bmatrix}\n",
    "1\\\\\n",
    "0\\\\\n",
    "1\n",
    "\\end{bmatrix}\n",
    "$$\n",
    "Derved har vi at N(A) = \n",
    "$$\n",
    "\\begin{bmatrix}\n",
    "2\\\\\n",
    "1\\\\\n",
    "0\n",
    "\\end{bmatrix}\n",
    "\\&\n",
    "\\begin{bmatrix}\n",
    "1\\\\\n",
    "0\\\\\n",
    "1\n",
    "\\end{bmatrix}\n",
    "$$"
   ]
  },
  {
   "cell_type": "code",
   "execution_count": null,
   "id": "af7a6b78-118d-474b-9428-30edb12d7c92",
   "metadata": {},
   "outputs": [],
   "source": [
    "n1 = np.array([2.0,1.0,0.0])[:,np.newaxis]\n",
    "n2 = np.array([1.0,0.0,1.0])[:,np.newaxis]\n",
    "print(A@(10*n1 + 24 * n2))"
   ]
  },
  {
   "cell_type": "markdown",
   "id": "60f02637-0edb-48fb-a85d-707550e9e683",
   "metadata": {},
   "source": [
    "## b"
   ]
  },
  {
   "cell_type": "code",
   "execution_count": 71,
   "id": "954ac352-36cf-43a3-b098-069be88d4fd2",
   "metadata": {},
   "outputs": [
    {
     "name": "stdout",
     "output_type": "stream",
     "text": [
      "egenværdier:\n",
      " [ 7.+0.j -0.+0.j -0.-0.j] \n",
      " egenvektorer:\n",
      " [[-0.21822+0.j       0.55053+0.21524j  0.55053-0.21524j]\n",
      " [-0.43644+0.j      -0.11991+0.10762j -0.11991-0.10762j]\n",
      " [-0.87287+0.j       0.79034+0.j       0.79034-0.j     ]]\n"
     ]
    }
   ],
   "source": [
    "e, vector = np.linalg.eig(A)\n",
    "print(\"egenværdier:\\n\",np.round(e,5),\"\\n egenvektorer:\\n\",np.round(vector,5))\n"
   ]
  },
  {
   "cell_type": "markdown",
   "id": "698a1581-411d-40d6-b0ff-1f45b5490662",
   "metadata": {},
   "source": [
    "Egenvektoren for 7 og for 0 er lineær uafhængige udfra proposition 21.5"
   ]
  },
  {
   "cell_type": "markdown",
   "id": "fd9814b4-479d-4911-a26c-36bebe532d08",
   "metadata": {},
   "source": [
    "## c"
   ]
  },
  {
   "cell_type": "code",
   "execution_count": 72,
   "id": "a527242d-2c38-4ac2-86e1-c6380827be3f",
   "metadata": {},
   "outputs": [
    {
     "name": "stdout",
     "output_type": "stream",
     "text": [
      "[[ 7.]\n",
      " [14.]\n",
      " [28.]]\n",
      "[[ 7.]\n",
      " [14.]\n",
      " [28.]]\n"
     ]
    }
   ],
   "source": [
    "v = np.array([-1.0,2.0,1.0])[:,np.newaxis]\n",
    "A = u@v.T\n",
    "u = np.array([1.0,2.0,4.0])[:,np.newaxis]\n",
    "\n",
    "print(A@u)\n",
    "print(7*u)"
   ]
  },
  {
   "cell_type": "markdown",
   "id": "fe251442-c298-4431-97a6-74c93f9bcbb6",
   "metadata": {},
   "source": [
    "## D\n",
    "proposition 21.6 og 21.7"
   ]
  },
  {
   "cell_type": "code",
   "execution_count": 73,
   "id": "5e930b6c-b857-4854-ac42-da559f33d57d",
   "metadata": {},
   "outputs": [
    {
     "name": "stdout",
     "output_type": "stream",
     "text": [
      "[[-1.  2.  1.]\n",
      " [-2.  4.  2.]\n",
      " [-4.  8.  4.]]\n",
      "[[-1.+0.j  2.-0.j  1.+0.j]\n",
      " [-2.+0.j  4.-0.j  2.-0.j]\n",
      " [-4.-0.j  8.-0.j  4.+0.j]]\n"
     ]
    }
   ],
   "source": [
    "print(A)\n",
    "Lamb = np.diag(e)\n",
    "print(np.round(vector@Lamb@np.linalg.inv(vector),10))\n"
   ]
  },
  {
   "cell_type": "markdown",
   "id": "9f935d5a-8096-49cd-a180-3ad6e664bbf6",
   "metadata": {},
   "source": [
    "# Opgave 12.4.\n",
    "\n",
    "(a) Betragt matricen\n",
    "$$\n",
    "A=\\left[\\begin{array}{cc}\n",
    "-1 & 2 \\\\\n",
    "2 & -1\n",
    "\\end{array}\\right]\n",
    "$$\n",
    "\n",
    "Bestem egenværdierne for $A$ og en ortonormal basis af egenvektorer.\n",
    "\n",
    "(b) Løs begyndelsesværdiproblemet\n",
    "$$\n",
    "\\begin{aligned}\n",
    "& y_0^{\\prime}(t)=-y_0(t)+2 y_1(t), \\\\\n",
    "& y_1^{\\prime}(t)=2 y_0(t)-y_1(t), \\\\\n",
    "& y_0(0)=3, \\quad y_1(0)=1 .\n",
    "\\end{aligned}\n",
    "$$\n",
    "\n",
    "Plot løsningerne i python."
   ]
  },
  {
   "cell_type": "markdown",
   "id": "2285b482-ca1e-469c-8f92-e65db515f87c",
   "metadata": {},
   "source": [
    "## a\n"
   ]
  },
  {
   "cell_type": "code",
   "execution_count": 20,
   "id": "8ceafc28-6621-45bf-9e00-2f85e97efac9",
   "metadata": {},
   "outputs": [
    {
     "name": "stdout",
     "output_type": "stream",
     "text": [
      "egenværdier:,\n",
      " [ 1. -3.] \n",
      " Egenvektorbasis:\n",
      " [[ 0.70710678 -0.70710678]\n",
      " [ 0.70710678  0.70710678]]\n",
      "True\n",
      "[[ 0.70710678  0.70710678]\n",
      " [-0.70710678  0.70710678]]\n",
      "True\n"
     ]
    }
   ],
   "source": [
    "A = np.array([[-1,2],[2,-1]])\n",
    "e, v = np.linalg.eig(A)\n",
    "print(\"egenværdier:,\\n\",e,\"\\n Egenvektorbasis:\\n\",v)\n",
    "\n",
    "\n",
    "import numpy as np\n",
    "# Benytter os af af Defination 8.11\n",
    "#Opgave A\n",
    "def ortogonalCollection(listOfVectors):\n",
    "    for i in listOfVectors:\n",
    "        for j in listOfVectors:\n",
    "            if np.array_equal(i,j):\n",
    "                continue\n",
    "            prikprodukt = i.T @ j\n",
    "            if np.round(prikprodukt,16) != 0:\n",
    "                return False\n",
    "    return True\n",
    "#Write Vectors\n",
    "v0 = v[:,0]\n",
    "v1 = v[:,1]\n",
    "collectionOfVectors = [v0,v1]\n",
    "print(ortogonalCollection(collectionOfVectors))\n",
    "#Lemma 8.15\n",
    "result = np.array([1/np.linalg.norm(v0)*v0,1/np.linalg.norm(v1)*v1])\n",
    "print(result)\n",
    "print(ortogonalCollection(result))"
   ]
  },
  {
   "cell_type": "markdown",
   "id": "3a50b873-b34b-4a94-ac1b-f2276776ffa8",
   "metadata": {},
   "source": [
    "## b"
   ]
  },
  {
   "cell_type": "markdown",
   "id": "c4cbb274-18d5-4e78-acb5-76f552ca2ac9",
   "metadata": {},
   "source": [
    "Prøver at følge eksempel 22.4\n",
    "\n",
    "$$det(\\begin{bmatrix}-1-\\lambda & 2\\\\ 2 & -1-\\lambda\\end{bmatrix}) = (-1-\\lambda)(-1-\\lambda)-4 = \\lambda^2 + 2\\lambda - 3$$"
   ]
  },
  {
   "cell_type": "code",
   "execution_count": 22,
   "id": "59fb59db-120f-4218-ac63-645c3ff57146",
   "metadata": {},
   "outputs": [
    {
     "name": "stdout",
     "output_type": "stream",
     "text": [
      "[-3.  1.]\n"
     ]
    }
   ],
   "source": [
    "aboveEquation = [1,2,-3]\n",
    "print(np.roots(aboveEquation))\n",
    "def poly(x):\n",
    "    return x**2 + 2*x + 1\n",
    "    \n",
    "#fig, ax = plt.subplots()\n",
    "#x = np.linspace(-10,10)\n",
    "#ax.plot(x,poly(x))"
   ]
  },
  {
   "cell_type": "markdown",
   "id": "cd0e2b38-de7f-4017-9b70-cf5102c0f651",
   "metadata": {},
   "source": [
    "For \n",
    "$\\lambda = -3$\n",
    "$$\n",
    "\\begin{bmatrix}\n",
    "-1--3 & 2\\\\\n",
    "2 & -1--3\n",
    "\\end{bmatrix}\n",
    "=\n",
    "\\begin{bmatrix}\n",
    "2 & 2\\\\\n",
    "2 & 2\n",
    "\\end{bmatrix}\n",
    "$$"
   ]
  },
  {
   "cell_type": "code",
   "execution_count": 75,
   "id": "55c881c4-0bf9-44a2-ae4c-3256370a21ce",
   "metadata": {},
   "outputs": [
    {
     "name": "stdout",
     "output_type": "stream",
     "text": [
      "[[0.]\n",
      " [0.]]\n",
      "[[0]\n",
      " [0]]\n",
      "EigResult(eigenvalues=array([4.0000000e+00, 4.4408921e-16]), eigenvectors=array([[ 0.70710678, -0.70710678],\n",
      "       [ 0.70710678,  0.70710678]]))\n"
     ]
    }
   ],
   "source": [
    "Aneg3 = np.array([[2.0,2.0],[2.0,2.0]])\n",
    "v = np.array([-1,1])[:,np.newaxis];\n",
    "print(Aneg3@v)\n",
    "print(0*v)\n",
    "print(np.linalg.eig(Aneg3))"
   ]
  },
  {
   "cell_type": "markdown",
   "id": "ed5ecfbf-16a5-4d00-b9a8-92f803293b90",
   "metadata": {},
   "source": [
    "Derved er vektoren:\n",
    "$$\n",
    "\\begin{bmatrix}\n",
    "-1\\\\\n",
    "1\n",
    "\\end{bmatrix}\n",
    "$$\n",
    "en egenvektor"
   ]
  },
  {
   "cell_type": "markdown",
   "id": "b6322f77-e60f-4004-87c9-e9e5b9826c52",
   "metadata": {},
   "source": [
    "For $\\lambda = 1$:\n",
    "$$\n",
    "\\begin{bmatrix}\n",
    "-1 -1 & 2\\\\\n",
    "2 & -1-1\n",
    "\\end{bmatrix}\n",
    "=\n",
    "\\begin{bmatrix}\n",
    "-2 & 2\\\\\n",
    "2 & -2\n",
    "\\end{bmatrix}\n",
    "$$"
   ]
  },
  {
   "cell_type": "code",
   "execution_count": 69,
   "id": "645ed17e-7bdc-4dd5-978b-2992437a7862",
   "metadata": {},
   "outputs": [
    {
     "name": "stdout",
     "output_type": "stream",
     "text": [
      "[[0]\n",
      " [0]]\n",
      "[[0]\n",
      " [0]]\n"
     ]
    },
    {
     "data": {
      "text/plain": [
       "EigResult(eigenvalues=array([ 4.4408921e-16, -4.0000000e+00]), eigenvectors=array([[ 0.70710678, -0.70710678],\n",
       "       [ 0.70710678,  0.70710678]]))"
      ]
     },
     "execution_count": 69,
     "metadata": {},
     "output_type": "execute_result"
    }
   ],
   "source": [
    "Afor1 = np.array([[-2,2],[2,-2]])\n",
    "v = np.array([1,1])[:,np.newaxis];\n",
    "print(Afor1@v)\n",
    "print(0*v)\n",
    "np.linalg.eig(Afor1)"
   ]
  },
  {
   "cell_type": "markdown",
   "id": "edc92cc3-b299-4524-8d08-09456df7de5e",
   "metadata": {},
   "source": [
    "Derved er denne vektor også en egenvektor:\n",
    "$$\n",
    "\\begin{bmatrix}\n",
    "1\\\\\n",
    "1\n",
    "\\end{bmatrix}\n",
    "$$"
   ]
  },
  {
   "cell_type": "markdown",
   "id": "858294d9-af6b-47f4-a310-6fedc659258c",
   "metadata": {},
   "source": [
    "Derved har vi løsningerne:\n",
    "$$\n",
    "y(t)=C0\\begin{bmatrix}1\\\\-1\\end{bmatrix}e^{-3t}+C1\\begin{bmatrix}1\\\\1\\end{bmatrix}e^{t} = \\begin{bmatrix}3\\\\1\\end{bmatrix}\n",
    "$$"
   ]
  },
  {
   "cell_type": "markdown",
   "id": "8c062849-9e51-4c02-a235-c4f7582effb9",
   "metadata": {},
   "source": [
    "for t = 0 har vi så:\n",
    "$$\n",
    "y(t)=C0\\begin{bmatrix}1\\\\-1\\end{bmatrix}+C1\\begin{bmatrix}1\\\\1\\end{bmatrix} = \\begin{bmatrix}3\\\\1\\end{bmatrix}\n",
    "$$"
   ]
  },
  {
   "cell_type": "markdown",
   "id": "6c419e41-5872-4123-9215-dc5e5a9ab14b",
   "metadata": {},
   "source": []
  },
  {
   "cell_type": "markdown",
   "id": "21edf615-ad24-45a7-97de-4e1c9148e2b5",
   "metadata": {},
   "source": [
    "# Opgave 12.5.\n",
    "Lad $A$ være en ( $2 \\times 2)$-matrix. Vis at det karakteristiske polynomium for $A$ er lige med\n",
    "$$\n",
    "p(\\lambda)=\\lambda^2-\\operatorname{Tr}(A) \\lambda+\\operatorname{det}(A),\n",
    "$$\n",
    "hvor $\\operatorname{Tr}(A)=a_{00}+a_{11}$ er sporet af $A$. Hvis $A$ er diagonaliserbar, vis at egenværdierne $\\lambda_0, \\lambda_1$ for $A$ opfylder\n",
    "$$\n",
    "\\lambda_0+\\lambda_1=\\operatorname{Tr}(A), \\quad \\lambda_0 \\lambda_1=\\operatorname{det}(A) .\n",
    "$$\n",
    "\n",
    "Diskutér mulige generalisering til større matricer."
   ]
  }
 ],
 "metadata": {
  "kernelspec": {
   "display_name": "Python 3 (ipykernel)",
   "language": "python",
   "name": "python3"
  },
  "language_info": {
   "codemirror_mode": {
    "name": "ipython",
    "version": 3
   },
   "file_extension": ".py",
   "mimetype": "text/x-python",
   "name": "python",
   "nbconvert_exporter": "python",
   "pygments_lexer": "ipython3",
   "version": "3.12.3"
  }
 },
 "nbformat": 4,
 "nbformat_minor": 5
}
