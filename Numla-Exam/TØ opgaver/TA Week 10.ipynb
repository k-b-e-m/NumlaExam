{
 "cells": [
  {
   "cell_type": "code",
   "execution_count": null,
   "id": "e645c3e6-795c-4ea9-96fd-5f57f0d69324",
   "metadata": {},
   "outputs": [],
   "source": []
  }
 ],
 "metadata": {
  "kernelspec": {
   "display_name": "",
   "name": ""
  },
  "language_info": {
   "name": ""
  }
 },
 "nbformat": 4,
 "nbformat_minor": 5
}
