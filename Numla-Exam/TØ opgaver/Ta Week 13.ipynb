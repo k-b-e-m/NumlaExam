{
 "cells": [
  {
   "cell_type": "markdown",
   "id": "15fd6f6c-90ad-4051-bdf1-a10d02b69d1d",
   "metadata": {},
   "source": [
    "# Opgave 13.1.\n",
    "Lad\n",
    "$$\n",
    "A=\\left[\\begin{array}{ccc}\n",
    "4 & 3 & 3 \\\\\n",
    "-3 & -2 & -3 \\\\\n",
    "-3 & -3 & -2\n",
    "\\end{array}\\right] .\n",
    "$$\n",
    "(a) Vis at $\\lambda_0=-2$ er en egenværdi for $A$ og find er tilhørende egenvektor $v_0$.\n",
    "\n",
    "(b) Beregn det karakteristisk polynomium for $A$ og brug det sammen med del (a) til at bestemme de andre egenværdier for $A$.\n",
    "\n",
    "(c) Find en basis af egenvektorer for $A$.\n",
    "\n",
    "(d) Bestem en invertibel matrix $V$ og en diagonal matrix $\\Lambda$ således at $A=$ $V \\Lambda V^{-1}$.\n",
    "\n"
   ]
  },
  {
   "cell_type": "markdown",
   "id": "45afef90-ebbf-482f-a253-9622a314c6fb",
   "metadata": {},
   "source": [
    "\n",
    "## a\n",
    "Vi benytter os her af proposition 21.2\n",
    "$$\n",
    "(A--2I_n) = \n",
    "\\begin{bmatrix}\n",
    "6 & 3 & 3\\\\\n",
    "-3 & 0 & -3\\\\\n",
    "-3 & -3 & 0\n",
    "\\end{bmatrix}\n",
    "$$\n",
    "Vi skal nu vise at denne ikke er invertibel"
   ]
  },
  {
   "cell_type": "code",
   "execution_count": 4,
   "id": "7ca6d8ba-91da-4bcb-824e-0d8ae2220507",
   "metadata": {},
   "outputs": [],
   "source": [
    "import numpy as np\n",
    "Aneg2I= np.array([[2,3,3],[-3,-4,-3],[-3,-3,-4]])\n"
   ]
  },
  {
   "cell_type": "markdown",
   "id": "540fa863-346b-4d07-8dbf-b408e68b570d",
   "metadata": {},
   "source": [
    "## b\n",
    "$$\n",
    "det(\n",
    "\\begin{bmatrix}\n",
    "4-\\lambda & 3 & 3\\\\\n",
    "-3 & -2-\\lambda & -3\\\\\n",
    "-3 & -3 & -2-\\lambda\n",
    "\\end{bmatrix}\n",
    ")\n",
    "=\n",
    "(4-\\lambda)det(\\begin{bmatrix}-2-\\lambda & -3 \\\\ -3 & -2-\\lambda\\end{bmatrix})-3det(\\begin{bmatrix}-3 & -3\\\\-3 & -2 -\\lambda\\end{bmatrix}) + 3det(\\begin{bmatrix}-3 & -2-\\lambda\\\\ -3 & -3\\end{bmatrix})\n",
    "$$"
   ]
  },
  {
   "cell_type": "markdown",
   "id": "d76f637b-cf8f-48f1-a9c3-c9d010a86efb",
   "metadata": {},
   "source": [
    "$$\n",
    "(-4-\\lambda)((-2-\\lambda)^2--3^2)-3(-3(-2-\\lambda)--3^2)+3(-3^2--3(-2-\\lambda))=- \\lambda^3 - 8 \\lambda^2 - 47\\lambda -142 \n",
    "$$"
   ]
  },
  {
   "cell_type": "code",
   "execution_count": 2,
   "id": "efc00755-3ec3-4205-aa3c-ab29b623d7d1",
   "metadata": {},
   "outputs": [
    {
     "name": "stdout",
     "output_type": "stream",
     "text": [
      "-72\n"
     ]
    }
   ],
   "source": [
    "def karakteristiskFunction(x):\n",
    "    return -x**3-8*x**2-47*x-142\n",
    "\n",
    "print(karakteristiskFunction(-2))"
   ]
  },
  {
   "cell_type": "markdown",
   "id": "1774b44c-cf57-4c7b-8821-258148148734",
   "metadata": {},
   "source": [
    "# Opgave 13.2. \n",
    "Betragt det elektriske kredsløb i figur 1, og lad $v_C$ være spændingsfaldet over kondensatoren $C$.\n",
    "Figur 1: Elektrisk kredsløb.\n",
    "\n",
    "(a) Vis at $i$ og $v_C$ opfylder\n",
    "$$\n",
    "\\left[\\begin{array}{c}\n",
    "i^{\\prime} \\\\\n",
    "v_C^{\\prime}\n",
    "\\end{array}\\right]=\\left[\\begin{array}{cc}\n",
    "-R / L & -1 / L \\\\\n",
    "1 / C & 0\n",
    "\\end{array}\\right]\\left[\\begin{array}{c}\n",
    "i \\\\\n",
    "v_C\n",
    "\\end{array}\\right] .\n",
    "$$\n",
    "\n",
    "(b) Bestem løsninger til system med $i(0)=0 \\mathrm{~A}, v_C(0)=10 \\mathrm{~V}$ for\n",
    "\n",
    "(i) $L=1 \\mathrm{H}, R=4 \\Omega$ og $C=(1 / 3) \\mathrm{F}$,\n",
    "\n",
    "(ii) $L=1 \\mathrm{H}, R=4 \\Omega$ og $C=(1 / 104) \\mathrm{F}$, og plot løsningerne $v_C(t)$ i python."
   ]
  },
  {
   "cell_type": "markdown",
   "id": "b9675a95-b30b-499a-adef-5a810ff10a47",
   "metadata": {},
   "source": [
    "# Opgave 13.3. \n",
    "Antag at $A=V \\Lambda V^{-1}$ er en $(3 \\times 3)$-matrix, som er diagonaliserbar med egenværdier $\\lambda_0, \\lambda_1, \\lambda_2$ og $\\Lambda=\\operatorname{diag}\\left(\\lambda_0, \\lambda_1, \\lambda_2\\right)$. Vis at de følgende matricer er diagonaliserbar og bestem deres egenværdier\n",
    "(a) $3 A$\n",
    "\n",
    "(b) $2 A-I_3$,\n",
    "\n",
    "(c) $A^2$,\n",
    "\n",
    "(d) $A^4-3 A^3+2 A^2-A+6 I_3$.\n",
    "\n",
    "Hvornår er $A$ invertibel? Giv et kriterium bestemt af egenværdierne."
   ]
  },
  {
   "cell_type": "markdown",
   "id": "3c29da1b-56b5-451d-8b1c-6a3d605eb32f",
   "metadata": {},
   "source": [
    "# Opgave 13.4.\n",
    "\n",
    "Betragt systemet af klodser og fjedre i figur 2. Klodser $X$ og $Z$ har masse $m_X=m_Z=4 \\mathrm{~kg}, Y$ har masse $m_Y=3 \\mathrm{~kg}$. Fjedrene har fjederkonstan-\n",
    "Figur 2: System med klodser og fjedre.\n",
    "ter $k_A=10 \\mathrm{~N} / \\mathrm{m}=k_B=k_C=k_D$\n",
    "Lad $x_X(t), x_Y(t)$ og $x_Z(t)$ angiver hvor meget hver klods er rykket til højre fra dens ligevægtsposition. Brug metoderne fra eksempel 22.6 til at vise at det følgende system af differentialligninger bliver opfyldt:\n",
    "$$\n",
    "\\begin{aligned}\n",
    "& m_X x_X^{\\prime \\prime}=-\\left(k_A+k_B\\right) x_X+k_B x_Y, \\\\\n",
    "& m_Y x_Y^{\\prime \\prime}=k_B x_X-\\left(k_B+k_C\\right) x_Y+k_C x_Z, \\\\\n",
    "& m_Z x_Z^{\\prime \\prime}=k_C x_Y-\\left(k_C+k_D\\right) x_Z .\n",
    "\\end{aligned}\n",
    "$$\n",
    "\n",
    "Ved at skrive $z=\\left(x_X, x_Y, x_Z, y_X, y_Y, y_Z\\right)$ hvor $y_R=x_R^{\\prime}$, vis at systemet er ækvivalent med\n",
    "$$\n",
    "z^{\\prime}=\\left[\\begin{array}{cccccc}\n",
    "0 & 0 & 0 & 1 & 0 & 0 \\\\\n",
    "0 & 0 & 0 & 0 & 1 & 0 \\\\\n",
    "0 & 0 & 0 & 0 & 0 & 1 \\\\\n",
    "-5 & 5 / 2 & 0 & 0 & 0 & 0 \\\\\n",
    "10 / 3 & -20 / 3 & 10 / 3 & 0 & 0 & 0 \\\\\n",
    "0 & 5 / 2 & -5 & 0 & 0 & 0\n",
    "\\end{array}\\right] z\n",
    "$$\n",
    "\n",
    "Ved hjælp af np. linalg. eigvals (...) vis at alle egenværdier er rent imagære indenfor machine epsilon. Hvad betyder det fysisk? Er det realistisk?"
   ]
  }
 ],
 "metadata": {
  "kernelspec": {
   "display_name": "Python 3 (ipykernel)",
   "language": "python",
   "name": "python3"
  },
  "language_info": {
   "codemirror_mode": {
    "name": "ipython",
    "version": 3
   },
   "file_extension": ".py",
   "mimetype": "text/x-python",
   "name": "python",
   "nbconvert_exporter": "python",
   "pygments_lexer": "ipython3",
   "version": "3.12.3"
  }
 },
 "nbformat": 4,
 "nbformat_minor": 5
}
