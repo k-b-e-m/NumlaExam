{
 "cells": [
  {
   "cell_type": "markdown",
   "id": "d8a78ca3-a720-4db9-aec0-45429e8a38b0",
   "metadata": {},
   "source": [
    "Opgave 3.1. Lad\n",
    "\n",
    "$$\n",
    "s=2, \\quad t=3, \\quad A=\\left[\\begin{array}{ccc}\n",
    "2 & 1 & -1 \\\\\n",
    "0 & 2 & 5\n",
    "\\end{array}\\right], \\quad B=\\left[\\begin{array}{ccc}\n",
    "1 & -1 & 0 \\\\\n",
    "0 & 1 & -1\n",
    "\\end{array}\\right] .\n",
    "$$\n",
    "\n",
    "\n",
    "Hvilke af de følgende udtryk er tilladt? For dem, der er tilladt, beregn svaret (python kan godt bruges); for dem, der er ikke tilladt, forklar hvorfor.\n",
    "\n",
    "\n",
    "(a) $s B$, (b) $A+t B$, (c) $A^T$, (d) $A^T+s B$, (e) $s A^T-t B^T$,\n",
    "\n",
    "\n",
    "(f) $A B$, (g) $B A$, (h) $A^T B$, (i) $s A B^T$, (j) $B A^T B t$.\n"
   ]
  },
  {
   "cell_type": "code",
   "execution_count": 1,
   "id": "08d5f81f-129f-404f-a042-f88d824516e8",
   "metadata": {},
   "outputs": [
    {
     "name": "stdout",
     "output_type": "stream",
     "text": [
      "A er korrekt og kan regnes til:\n",
      " [[ 2 -2  0]\n",
      " [ 0  2 -2]]\n",
      "B er korrekt og giver:\n",
      " [[ 5 -2 -1]\n",
      " [ 0  5  2]]\n",
      "C er korrekt og giver\n",
      " [[ 2  0]\n",
      " [ 1  2]\n",
      " [-1  5]]\n",
      "D er ikke mulig\n",
      "E mulig og giver os:\n",
      " [[ 1  0]\n",
      " [ 5  1]\n",
      " [-2 13]]\n",
      "F er ikke mulig\n",
      "G er ikke mulig\n",
      "H er mulig og giver:\n",
      " [[ 2 -2  0]\n",
      " [ 1  1 -2]\n",
      " [-1  6 -5]]\n",
      "I er mulig og giver:\n",
      " [[ 2  4]\n",
      " [-4 -6]]\n",
      "J er mulig og giver: \n",
      " [[  3  -9   6]\n",
      " [  6 -15   9]]\n"
     ]
    }
   ],
   "source": [
    "import numpy as np\n",
    "import matplotlib.pyplot as plt\n",
    "\n",
    "s = 2\n",
    "t = 3\n",
    "A = np.array([[2,1,-1],[0,2,5]])\n",
    "B = np.array([[1,-1,0],[0,1,-1]])\n",
    "print(\"A er korrekt og kan regnes til:\\n\",s*B)\n",
    "print(\"B er korrekt og giver:\\n\", A+(t*B))\n",
    "print(\"C er korrekt og giver\\n\", A.T)\n",
    "print(\"D er ikke mulig\")\n",
    "print(\"E mulig og giver os:\\n\",s*A.T-(t*B.T))\n",
    "print(\"F er ikke mulig\")\n",
    "print(\"G er ikke mulig\")\n",
    "print(\"H er mulig og giver:\\n\",A.T@B)\n",
    "print(\"I er mulig og giver:\\n\",(s*A)@B.T)\n",
    "print(\"J er mulig og giver: \\n\",((B@A.T)@B)*t)"
   ]
  },
  {
   "cell_type": "markdown",
   "id": "3d152afa-2372-4cfa-82aa-65d16809eb93",
   "metadata": {},
   "source": [
    "Opgave 3.2. Lad $R_0$ og $R_1$ være rotationsmatricerne fra eksempel 4.8 i Notesæt 4 , taget med $c=0,8, s=0,6$. Beregn matrixprodukterne\n",
    "\n",
    "$$\n",
    "R_0 R_1 \\quad \\text { og } \\quad R_1 R_0\n",
    "$$\n",
    "\n",
    "og bekræft at resultaterne er forskellige. Hvad betyder dette for en opgraderet version af robotarmen fra Afleveringsopgave 1 hvor ledende kan bøje sig i tre dimensioner?"
   ]
  },
  {
   "cell_type": "code",
   "execution_count": 2,
   "id": "ba07b26f-3049-4522-b955-14f3ee276e14",
   "metadata": {},
   "outputs": [
    {
     "name": "stdout",
     "output_type": "stream",
     "text": [
      "R0R1:\n",
      " [[ 0.8   0.   -0.6 ]\n",
      " [-0.36  0.8  -0.48]\n",
      " [ 0.48  0.6   0.64]]\n",
      "R1R0:\n",
      " [[ 0.8  -0.36 -0.48]\n",
      " [ 0.    0.8  -0.6 ]\n",
      " [ 0.6   0.48  0.64]]\n",
      "Dette betyder at det generelt ikke er ligegyldigt \n",
      " hvilken rotation vi laver  pa led d\n"
     ]
    }
   ],
   "source": [
    "c = 0.8\n",
    "s = 0.6\n",
    "\n",
    "R0 = np.array([[1,0,0],\n",
    "               [0,c,-s],\n",
    "               [0,s,c]])\n",
    "\n",
    "R1 = np.array([[c,0,-s],\n",
    "               [0,1,0],\n",
    "               [s,0,c]])\n",
    "\n",
    "print(\"R0R1:\\n\",R0@R1)\n",
    "print(\"R1R0:\\n\",R1@R0)\n",
    "print(\"Dette betyder at det generelt ikke er ligegyldigt \\n hvilken rotation vi laver  pa led d\")"
   ]
  },
  {
   "cell_type": "markdown",
   "id": "e1c2dcff-b1e6-4de6-9650-0c5b4f13877f",
   "metadata": {},
   "source": [
    "Opgave 3.3. 11 computere \n",
    "\n",
    "$C_0, \\ldots, C_{10}$ \n",
    "\n",
    "er forbundet i netværket som nedenfor\n",
    "\n",
    "\n",
    "(a) Dan i python nabomatricen \n",
    "\n",
    "$A=\\left(a_{i j}\\right) \\in \\mathbb{R}^{11 \\times 11}$, som har $a_{i j}=1$ hvis $C_i$ er direkte forbundet til $C_j$ og har $a_{i j}=0$ ellers. Bemærk $C_i$ er ikke forbundet til sig selv. Det kan hjælpe at bruge np.zeros (...) og operationer som $\\mathrm{a}[0,[1,3]]=1$.\n",
    "\n",
    "(b) Tjek at $A^T=A$.\n",
    "\n",
    "Lad $A^k$ være matrixproduktet af $A$ med sig selv $k$-gange:\n",
    "$$\n",
    "A^k=\\underbrace{A A \\ldots A}_k .\n",
    "$$\n",
    "\n",
    "Beregn $A^2=A, A^3$ og $A^5$ i python. Det vides at den $(i, j)$-indgang i $A^k$ kan betragtes som antallet af stier af længde $k$ i netværket fra $C_i$ til $C_j$. Brug dette og de beregnede matricer til at svare på følgende spørgsmål, der kan eventuelt bruges funktionerne $\\mathrm{np}$.count_nonzero og $\\mathrm{np}$. argwhere:\n",
    "\n",
    "(c) Hvor mange computer har en sti af længde 2 til $C_5$ ?\n",
    "\n",
    "(d) Hvor mange computer har en sti af længde 2 til $C_7$ ?\n",
    "\n",
    "(e) Hvilke computer kan ikke nås fra $C_9$ med en sti af længde højst 3?\n",
    "\n",
    "(f) Er der nogle computer, som ikke kan nås fra $C_0$ med en sti af længde 4?\n",
    "Kan du forklare hvorfor $A^k$ tæller stier af længde $k$ på denne måde?"
   ]
  },
  {
   "cell_type": "code",
   "execution_count": 3,
   "id": "8f14fa14-0abe-4cde-b69e-69c264447021",
   "metadata": {},
   "outputs": [
    {
     "name": "stdout",
     "output_type": "stream",
     "text": [
      "Opgave B\n",
      "\n",
      "A == A.T True\n",
      "Opgave C\n",
      "\n",
      "The coloumn representing C5\n",
      " [ True  True  True False  True False  True False  True  True  True]\n",
      "Number of computers: 8\n",
      "Roads must be equal to 2, therefore some can reach on 1 but not on 2\n",
      "\n",
      "Opgave D\n",
      "\n",
      "The coloumn representing C7\n",
      " [False False  True False  True  True  True False  True  True  True]\n",
      "Number of compouters: 7\n",
      "Opgave E\n",
      "\n",
      "The list representing if Ci can reach C9 in 3 or less [False, True, True, True, True, True, True, True, True, True, True]\n",
      "Number of Computers that are not able to do so 1\n",
      "\n",
      "Opgave F\n",
      "\n",
      "Row representing C0\n",
      " [ True  True  True  True  True  True  True False  True  True  True]\n",
      "Derved kan 7 ikke nås\n"
     ]
    }
   ],
   "source": [
    "#Opgave a\n",
    "n = np.array([[0,1,0,1,0,0,0,0,0,0,0],\n",
    "              [1,0,1,1,0,0,0,0,0,0,0],\n",
    "              [0,1,0,1,1,1,0,0,0,0,0],\n",
    "              [1,1,1,0,0,0,1,0,0,0,0],\n",
    "              [0,0,1,0,0,1,0,0,0,0,1],\n",
    "              [0,0,1,0,1,0,1,0,1,1,1],\n",
    "              [0,0,0,1,0,1,0,0,0,0,0],\n",
    "              [0,0,0,0,0,0,0,0,1,0,0],\n",
    "              [0,0,0,0,0,1,0,1,0,1,0],\n",
    "              [0,0,0,0,0,1,0,0,1,0,1],\n",
    "              [0,0,0,0,1,1,0,0,0,1,0],])\n",
    "\n",
    "#Opgave b\n",
    "print(\"Opgave B\\n\")\n",
    "print(\"A == A.T\", np.array_equal(n,n.T))\n",
    "\n",
    "#Opgave c\n",
    "print(\"Opgave C\\n\")\n",
    "A2 = n@n\n",
    "greaterThan1 = A2>0\n",
    "print(\"The coloumn representing C5\\n\", greaterThan1[:,6])\n",
    "print(\"Number of computers:\", np.count_nonzero(greaterThan1[:,6]==True))\n",
    "print(\"Roads must be equal to 2, therefore some can reach on 1 but not on 2\\n\")\n",
    "\n",
    "#Opgave d\n",
    "print(\"Opgave D\\n\")\n",
    "print(\"The coloumn representing C7\\n\", greaterThan1[:,8])\n",
    "print(\"Number of compouters:\",np.count_nonzero(greaterThan1[:,8]==True))\n",
    "\n",
    "#opgave E\n",
    "print(\"Opgave E\\n\")\n",
    "A3 = n@n@n\n",
    "greaterThan2 = A3>0\n",
    "\n",
    "reachC9 = [True,True,True,True,True,True,True,True,True,True,True]\n",
    "for x in range(0,10):\n",
    "    reachC9[x] = (n[x,10]>0) or (A2[x,10]>0) or (A3[x,10]>0)\n",
    "    \n",
    "print(\"The list representing if Ci can reach C9 in 3 or less\",reachC9)\n",
    "print(\"Number of Computers that are not able to do so\",reachC9.count(False))\n",
    "print(\"\")\n",
    "\n",
    "#opgave F\n",
    "print(\"Opgave F\\n\")\n",
    "A4 = n@n@n@n\n",
    "greaterThan4 = A4>0\n",
    "print(\"Row representing C0\\n\",greaterThan4[0,:])\n",
    "print(\"Derved kan 7 ikke nås\")\n"
   ]
  },
  {
   "cell_type": "markdown",
   "id": "7eeeff76-41ca-40e7-9a7f-34ae5c5866a4",
   "metadata": {},
   "source": [
    "## Opgave 3.4.\n",
    "Betragt algoritmen MatrixProdukt(A,B) fra notesæt 5, 5.1. for matrixproduktet af\n",
    "A $\\in \\mathbb{R}^{mxn},B \\in \\mathbb{R}^{nxr}$.\n",
    "Vi kan skrive række-søjleproduktet ud og flytte nulstilling af resultatmatricen C til begyndelsen for at få følgende:\n",
    "\n",
    "                                                                                                "
   ]
  },
  {
   "cell_type": "markdown",
   "id": "aacdfe5d-c355-4890-b853-cdc833d61f0f",
   "metadata": {},
   "source": [
    "Matrixprodukt-II(A,B)\n",
    "\n",
    "C = 0 mxr\n",
    "\n",
    "for i $\\in {0-m-1}$:\n",
    "\n",
    "    for j$\\in {0-r-1}$:\n",
    "    \n",
    "        for k $\\in {0-n-1}$:\n",
    "        \n",
    "            $c_{ij} = c_{ij} + a_{ik} * b_{kj}\n",
    "return C\n"
   ]
  },
  {
   "cell_type": "markdown",
   "id": "7f1981aa-e088-44f3-bae2-0ed2b329bc03",
   "metadata": {},
   "source": [
    "Dette har den fordel, at linjer 2, 3, 4 kan nu ombyttes, som vi har lyst.\n",
    "På denne måde får vi i alt 6 forskellige algoritmer. \n",
    "Tre af disse algoritmer svarer til de tre forskellige præsentationer af matrixproduktet i Notesæt 4, ligninger (4.1) , (4.2) og (4.3) :\n",
    "hvilke tre? \n",
    "Kan du give tilsvarende fortolkninger for nogle af de resterende tre algoritmer?"
   ]
  }
 ],
 "metadata": {
  "kernelspec": {
   "display_name": "Python 3 (ipykernel)",
   "language": "python",
   "name": "python3"
  },
  "language_info": {
   "codemirror_mode": {
    "name": "ipython",
    "version": 3
   },
   "file_extension": ".py",
   "mimetype": "text/x-python",
   "name": "python",
   "nbconvert_exporter": "python",
   "pygments_lexer": "ipython3",
   "version": "3.11.6"
  }
 },
 "nbformat": 4,
 "nbformat_minor": 5
}
