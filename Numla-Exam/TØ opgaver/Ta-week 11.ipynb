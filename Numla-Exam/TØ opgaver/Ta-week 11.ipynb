{
 "cells": [
  {
   "cell_type": "code",
   "execution_count": 1,
   "id": "5915f2b5-6dc4-4c06-938c-8edcd693069d",
   "metadata": {},
   "outputs": [],
   "source": [
    "import numpy as np\n",
    "import matplotlib.pyplot as plt\n"
   ]
  },
  {
   "cell_type": "markdown",
   "id": "0bec1cf0-7359-43f8-94a7-4b3b334cc029",
   "metadata": {},
   "source": [
    "## Opgave 11.1\n",
    "Lad $P_3$ være vektorrummet af polynomier af grad højst 3.\n",
    "Bestem koordinatvektorene af polynomiet $p(x)=(x-1)^3$ mht til basen E: $x^3, x^2,x,1$"
   ]
  },
  {
   "cell_type": "markdown",
   "id": "731edc99-8bf7-4b27-adec-d9966e5a6f4b",
   "metadata": {},
   "source": [
    "Vi opstiller ligningsystemet:\n",
    "$$\n",
    "(x-1)^3 =  \\begin{bmatrix}s0\\\\s1\\\\s2\\\\s3\\\\\\end{bmatrix}\\begin{bmatrix}x^3,x^2,x,1\\end{bmatrix}\n",
    "$$\n",
    "Dette gør vi grundet definition 19.6.\n",
    "Ved at løse dette ved kvadratsætinger kommer vi frem til at:\n",
    "$$\n",
    "s0=1,s1=-3,s2=3,s4=-1\n",
    "$$"
   ]
  },
  {
   "cell_type": "code",
   "execution_count": 2,
   "id": "84a0ed6b-4291-4fd1-9f3b-b78695ac6b05",
   "metadata": {},
   "outputs": [
    {
     "data": {
      "text/plain": [
       "[<matplotlib.lines.Line2D at 0x2954a523770>]"
      ]
     },
     "execution_count": 2,
     "metadata": {},
     "output_type": "execute_result"
    },
    {
     "data": {
      "image/png": "[encoded data removed]",
      "text/plain": [
       "<Figure size 640x480 with 1 Axes>"
      ]
     },
     "metadata": {},
     "output_type": "display_data"
    }
   ],
   "source": [
    "fig, ax = plt.subplots()\n",
    "x = np.linspace(-100,100,200)\n",
    "def p(x):\n",
    "    return (x-1)**3\n",
    "\n",
    "def t(x):\n",
    "    return x**3+(-3)*x**2+(3)*x+(-1)*1\n",
    "\n",
    "ax.plot(x,p(x), color=\"red\")\n",
    "ax.plot(x,t(x), \"-\", color = \"black\")\n"
   ]
  },
  {
   "cell_type": "markdown",
   "id": "5b65a13b-9bd6-422b-9650-e1f2b3cf6062",
   "metadata": {},
   "source": [
    "## Opgave 11.2.\n",
    "\n",
    "Bestem koordinatvektorerne af punktet $p=(1,-1,2,4) \\in \\mathbb{R}^4  \\mathrm{mht}$. til hver af de følgende baser.\n",
    "\n",
    "(a) $E:(1,0,0,0),(1,1,0,0),(1,1,1,0),(1,1,1,1)$.\n",
    "\n",
    "(b) $F:(1 / 2,-1 / 2,1 / 2,-1 / 2),(1 / \\sqrt{2}, 1 / \\sqrt{2}, 0,0),(0,0,1 / \\sqrt{2}, 1 / \\sqrt{2})$, $(1 / 2,-1 / 2,-1 / 2,1 / 2)$.\n",
    "\n",
    "Angiv koordinatskiftsmatricen fra $E$ til $F$, og bekræft at dette giver den korrekte relation mellem koordinatvektorerne af $p$ mht. $E$ og hhv. $F$.\n"
   ]
  },
  {
   "cell_type": "markdown",
   "id": "2d3425f4-72ab-449a-9c60-abe7e359ff67",
   "metadata": {
    "jp-MarkdownHeadingCollapsed": true
   },
   "source": [
    "### a\n",
    "Først kan vi samle de 4 $v_i$ fra E til:\n",
    "$$\n",
    "E= \n",
    "\\begin{bmatrix}\n",
    "1 & 1 & 1 & 1\\\\\n",
    "0 & 1 & 1 & 1 \\\\\n",
    "0 & 0 & 1 & 1\\\\\n",
    "0 & 0 & 0 & 1\\end{bmatrix}\n",
    "$$\n",
    "\n",
    "Udfra defination 19.6 finder vi koordinatvektoren ved at løse ligningssystemet:\n",
    "$$\n",
    "(1,-1,2,4)=\\begin{bmatrix}\n",
    "1 & 1 & 1 & 1 & | 1\\\\\n",
    "0 & 1 & 1 & 1  & | -1\\\\\n",
    "0 & 0 & 1 & 1 & | 2\\\\\n",
    "0 & 0 & 0 & 1 & | 4\\end{bmatrix}\n",
    "$$\n",
    "$$\n",
    "(1,-1,2,4)=\\begin{bmatrix}\n",
    "1 & 0 & 0 & 0 & | &2\\\\\n",
    "0 & 1 & 0 & 0  & | &-3\\\\\n",
    "0 & 0 & 1 & 0 & | &-2\\\\\n",
    "0 & 0 & 0 & 1 & | &4\\end{bmatrix}\n",
    "$$\n",
    "Derved har vi koordinatsvekotren: $\\begin{bmatrix}2\\\\-3\\\\-2\\\\4\\end{bmatrix}$"
   ]
  },
  {
   "cell_type": "markdown",
   "id": "79b8a4c0-2b87-4bc3-b705-458cbf008ff6",
   "metadata": {},
   "source": [
    "### b\n",
    "$$\n",
    "(1,-1,2,4)=\\begin{bmatrix}\n",
    "0.5 & \\frac{1}{\\sqrt{2}} & 0 & 0.5 & | &1\\\\\n",
    "-0.5 & \\frac{1}{\\sqrt{2}} & 0 & -0.5  & | &-1\\\\\n",
    "0.5 & 0 & \\frac{1}{\\sqrt{2}} & -0.5 & | &2\\\\\n",
    "-0.5 & 0 & \\frac{1}{\\sqrt{2}} & 0.5 & | &4\\end{bmatrix}\n",
    "$$\n"
   ]
  },
  {
   "cell_type": "code",
   "execution_count": 26,
   "id": "a029d274-a61c-4293-92fd-f4daa1fc38ec",
   "metadata": {},
   "outputs": [
    {
     "name": "stdout",
     "output_type": "stream",
     "text": [
      "[[ 1.         -0.         -0.          0.          0.        ]\n",
      " [ 0.          1.          0.          0.          0.        ]\n",
      " [ 0.          0.          1.          0.          4.24264069]\n",
      " [ 0.          0.          0.          1.          2.        ]]\n",
      "[ 1. -1.  2.  4.]\n"
     ]
    }
   ],
   "source": [
    "a =  np.array([\n",
    "    [0.5, 1/np.sqrt(2), 0, 0.5, 1],\n",
    "    [-0.5, 1/np.sqrt(2), 0, -0.5, -1],\n",
    "    [0.5, 0, 1/np.sqrt(2), -0.5, 2],\n",
    "    [-0.5, 0, 1/np.sqrt(2), 0.5, 4]\n",
    "])\n",
    "# Change matrix to used matrix\n",
    "def change(i,j):\n",
    "    a[[i,j],:] = a[[j,i],:]\n",
    "def factor(i,s):\n",
    "    a[i,:] *= s\n",
    "def add(i,j,s):\n",
    "    a[i,:] += t*a[j,:]\n",
    "def sub(i,j,t):\n",
    "    a[i,:] -= t*a[j,:]\n",
    "\n",
    "factor(0,np.sqrt(2))\n",
    "factor(1,np.sqrt(2))\n",
    "factor(2,np.sqrt(2))\n",
    "factor(3,np.sqrt(2))\n",
    "sub(0,1,-1)\n",
    "factor(0,0.5)\n",
    "sub(1,0,1)\n",
    "factor(1,-np.sqrt(2))\n",
    "sub(3,1,-1/np.sqrt(2))\n",
    "factor(2,np.sqrt(2))\n",
    "sub(2,1,1)\n",
    "factor(2,1/np.sqrt(2))\n",
    "sub(3,2,1)\n",
    "factor(3,1/a[3,3])\n",
    "sub(1,3,1)\n",
    "sub(2,3,-1)\n",
    "sub(2,3,a[2,3])\n",
    "change(0,1)\n",
    "print(np.round(a,10))\n",
    "\n",
    "b =  np.array([\n",
    "    [0.5, 1/np.sqrt(2), 0, 0.5, 1],\n",
    "    [-0.5, 1/np.sqrt(2), 0, -0.5, -1],\n",
    "    [0.5, 0, 1/np.sqrt(2), -0.5, 2],\n",
    "    [-0.5, 0, 1/np.sqrt(2), 0.5, 4]\n",
    "])\n",
    "solution = a[:,4]\n",
    "check =  b[:,0:4] @ solution\n",
    "print(np.round(check))"
   ]
  },
  {
   "cell_type": "code",
   "execution_count": null,
   "id": "ee8572df-7a56-46b3-9931-abacaa81f0b1",
   "metadata": {},
   "outputs": [],
   "source": []
  },
  {
   "cell_type": "markdown",
   "id": "b423531e-2f5b-47c8-b9f7-008465d00118",
   "metadata": {},
   "source": [
    "## Opgave 11.3.\n",
    "\n",
    "Lad\n",
    "$$\n",
    "A=\\left[\\begin{array}{ccccc}\n",
    "3 & 6 & -1 & 3 & 1 \\\\\n",
    "1 & 2 & 1 & -1 & -1 \\\\\n",
    "2 & 4 & 0 & 1 & 1\n",
    "\\end{array}\\right] .\n",
    "$$\n",
    "\n",
    "(a) Bestem den reducerede echelonform for $A$, og brug dette til at angive baser for søjlerummet $S(A)$ og nulrummet $N(A)$.\n",
    "\n",
    "(b) Vis at vektoren $(0,0,1)$ tilhører søjlerummet $S(A)$.\n",
    "\n",
    "(c) Brug det overstående til at bestemme alle løsninger $x \\in \\mathbb{R}^5$ til $A x=$ $(0,0,1)$."
   ]
  },
  {
   "cell_type": "markdown",
   "id": "9384e184-edc1-453f-b4e8-b2167be86d5a",
   "metadata": {},
   "source": [
    "## a"
   ]
  },
  {
   "cell_type": "code",
   "execution_count": 7,
   "id": "70382286-808e-437e-b413-933b6acf086c",
   "metadata": {},
   "outputs": [
    {
     "name": "stdout",
     "output_type": "stream",
     "text": [
      "[[ 1.          2.          0.          0.5        -0.16666667]\n",
      " [ 0.          0.          1.         -1.5        -1.5       ]\n",
      " [ 0.          0.          0.          0.          1.        ]]\n"
     ]
    }
   ],
   "source": [
    "a = np.array([\n",
    "    [3.0, 6.0, -1.0, 3.0, 1.0],\n",
    "    [1.0, 2.0, 1.0, -1.0, -1.0],\n",
    "    [2.0, 4.0, 0.0, 1.0, 1.0]\n",
    "])\n",
    "\n",
    "# Change matrix to used matrix\n",
    "def change(i,j):\n",
    "    a[[i,j],:] = a[[j,i],:]\n",
    "def factor(i,s):\n",
    "    a[i,:] *= s\n",
    "def add(i,j,s):\n",
    "    a[i,:] += t*a[j,:]\n",
    "def sub(i,j,t):\n",
    "    a[i,:] -= t*a[j,:]\n",
    "\n",
    "factor(0,(1/3))\n",
    "factor(2,(1/4))\n",
    "sub(1,2,2)\n",
    "sub(2,0,0.5)\n",
    "sub(2,1,a[2,2])\n",
    "factor(2,3)\n",
    "sub(0,1,-2/3)\n",
    "sub(0,1,1/3)\n",
    "print(a)"
   ]
  },
  {
   "cell_type": "markdown",
   "id": "95079a97-beeb-4685-a087-6e5c917f8bcd",
   "metadata": {},
   "source": [
    "Derved har vi at S(A) =\n",
    "$$\n",
    "\\begin{bmatrix}\n",
    "3\\\\1\\\\2\n",
    "\\end{bmatrix},\n",
    "\\begin{bmatrix}\n",
    "-1\\\\1\\\\0\n",
    "\\end{bmatrix}\n",
    ",\n",
    "\\begin{bmatrix}\n",
    "1\\\\-1\\\\1\n",
    "\\end{bmatrix}\n",
    "$$\n",
    "Og derved er N(A)="
   ]
  },
  {
   "cell_type": "markdown",
   "id": "701bd27a-367f-4584-ba38-15098560c0d0",
   "metadata": {},
   "source": [
    "Her har vi systemet:\n",
    "$$\n",
    "\\begin{align}\n",
    "x_0 + 2x_1 + 0.5x_3 -\\frac{1}{6}x_4 = 0\\\\\n",
    "x_2 -1.5x_3 -1.5x_4 = 0\\\\\n",
    "x_4 = 0\\\\\n",
    "\\end{align}\n",
    "$$\n",
    "Derved får vi:\n",
    "\n",
    "$$\n",
    "\\begin{pmatrix}\n",
    "x_0\\\\\n",
    "x_1\\\\\n",
    "x_2\\\\\n",
    "x_3\\\\\n",
    "x_4\\\\\n",
    "\\end{pmatrix}\n",
    "=\n",
    "\\begin{pmatrix}\n",
    "-2x_1 - 0.5x_3 + \\frac{1}{6}x_4\\\\\n",
    "x_1\\\\\n",
    "1.5x_3 + 1.5x_4\\\\\n",
    "x_3\\\\\n",
    "0\\\\\n",
    "\\end{pmatrix}\n",
    "=\n",
    "\\begin{pmatrix}\n",
    "-2x_1 - 0.5x_3\\\\\n",
    "x_1\\\\\n",
    "1.5x_3\\\\\n",
    "x_3\\\\\n",
    "0\\\\\n",
    "\\end{pmatrix}\n",
    "=\n",
    "x_1\n",
    "\\begin{pmatrix}\n",
    "-2\\\\\n",
    "1\\\\\n",
    "0\\\\\n",
    "0\\\\\n",
    "0\\\\\n",
    "\\end{pmatrix}\n",
    "+\n",
    "x_3\n",
    "\\begin{pmatrix}\n",
    "-0.5\\\\\n",
    "0\\\\\n",
    "1.5\\\\\n",
    "1\\\\\n",
    "0\n",
    "\\end{pmatrix}\n",
    "$$\n",
    "Derved er de disse to vektorer der uspænder nulrummet:\n"
   ]
  },
  {
   "cell_type": "markdown",
   "id": "f312c07b-d13b-486a-aac4-8037d70619e4",
   "metadata": {},
   "source": [
    "## b\n",
    "Dette er en del af søjlerummet da vi kan lave den ved:\n",
    "$$\n",
    "0\n",
    "\\begin{bmatrix}\n",
    "3\\\\1\\\\2\n",
    "\\end{bmatrix}\n",
    "+\n",
    "1\n",
    "\\begin{bmatrix}\n",
    "-1\\\\1\\\\0\n",
    "\\end{bmatrix}\n",
    "+\n",
    "1\n",
    "\\begin{bmatrix}\n",
    "1\\\\-1\\\\1\n",
    "\\end{bmatrix}\n",
    "=\n",
    "\\begin{bmatrix}\n",
    "0\\\\0\\\\1\n",
    "\\end{bmatrix}\n",
    "$$\n"
   ]
  },
  {
   "cell_type": "markdown",
   "id": "b0d581b3-8eb3-4e9f-a5ed-8dfd0dbfd6cc",
   "metadata": {},
   "source": [
    "## c\n"
   ]
  },
  {
   "cell_type": "code",
   "execution_count": 29,
   "id": "7276f359-d518-482d-8a63-4226b4778643",
   "metadata": {},
   "outputs": [
    {
     "name": "stdout",
     "output_type": "stream",
     "text": [
      "[0. 0. 1.]\n"
     ]
    }
   ],
   "source": [
    "firstVector = np.array([0,0,1,0,1])\n",
    "n1 = np.array([-2,1,0,0,0])\n",
    "n2 = np.array([-0.5,0,1.5,1,0])\n",
    "a = np.array([\n",
    "    [3.0, 6.0, -1.0, 3.0, 1.0],\n",
    "    [1.0, 2.0, 1.0, -1.0, -1.0],\n",
    "    [2.0, 4.0, 0.0, 1.0, 1.0]])\n",
    "\n",
    "check = a @ (firstVector + 7*n1 + 3*n2)\n",
    "print(check)"
   ]
  },
  {
   "cell_type": "markdown",
   "id": "d28d7bd1-c9ad-4ca2-ae36-1e1e13ff5931",
   "metadata": {},
   "source": [
    "## Opgave 11.4.\n",
    "Lad $P_2$ være vektorrummet, som bestăr af polynomier af grad højst 2. Betragt den lineære afbildning $L: P_2 \\rightarrow \\mathbb{R}^3$ givet ved\n",
    "$$\n",
    "L(p)=(p(0), p(1), p(2)) .\n",
    "$$\n",
    "\n",
    "Bestem matricen $A$ af $L$ mht. baserne $E: x^2, x, 1$ af $P_2$ og standardbasen $F:(1,0,0)$, $(0,1,0),(0,0,1)$ af $\\mathbb{R}^3$. Vis at $A$ er invertibel. Hvad kan du nu sige om ker $L$ og $\\operatorname{im} L$ ?"
   ]
  },
  {
   "cell_type": "markdown",
   "id": "dfa00526-7c7d-487c-b287-21e7aea51109",
   "metadata": {},
   "source": [
    "\n",
    "$$\n",
    "u_0 = (0^2,1^2,2^2) = (0,1,4)\\\\\n",
    "u_1 = (0,1,2) = (0,1,2)\\\\\n",
    "u_2 = (1,1,1) = (1,1,1)\\\\\n",
    "$$\n",
    "$$\n",
    "A=\n",
    "\\begin{pmatrix}\n",
    "0 & 0 & 1\\\\\n",
    "1 & 1 & 1\\\\\n",
    "4 & 2 & 1\n",
    "\\end{pmatrix}\n",
    "$$\n",
    "sætning 20.4 siger at kernen = nulrummet og im = s(a). I vores tilfælde er nulrummet = 0 og søjlerummet er alle søjler"
   ]
  },
  {
   "cell_type": "markdown",
   "id": "c5f78c49-5f62-4b19-acdc-01690965a4ed",
   "metadata": {},
   "source": [
    "\n",
    "## Opgave 11.5.\n",
    "Lad $V$ være rummet af funktioner $f:[-\\pi, \\pi] \\rightarrow \\mathbb{R}$ som er differentiabel vilkårligt mange gange. Lad $L: V \\rightarrow V$ være den lineære funktion $L(f)=f^{\\prime \\prime}+f$.\n",
    "\n",
    "(a) Bestem en basis for kernen $\\operatorname{ker} L$.\n",
    "\n",
    "Basen er sin(x) og cos(x) da L(sin(x)) = L(cos(x)) = 0\n",
    "\n",
    "(b) Find et polynomium $p(x)$ således at $L(p)(x)=x-1$.\n",
    "\n",
    "p = x-1\n",
    "\n",
    "\n",
    "(c) Bestem alle elementer $f$ af $V$, der opfylder $L(f)(x)=x-1$.\n",
    "\n",
    "p = s0 sin(x) + s1 cos(x) + x-1"
   ]
  },
  {
   "attachments": {},
   "cell_type": "markdown",
   "id": "6f8acf09-4e15-480a-b190-fead78b6ec20",
   "metadata": {},
   "source": [
    "## Opgave 11.6.\n",
    "### FØLG AFSNIT 17.2\n",
    "Husk at Legendre polynomier $P_k(x)$ er ortogonale for $\\operatorname{det} L^2$-indre produkt på rummet af kontinuerte funktioner $[-1,1] \\rightarrow \\mathbb{R}$. For hvert $k$, sæt $\\tilde{P}_k(x)=P_k(2 x-1)$.\n",
    "\n",
    "(a) I python brug de indbyggede Legendre polynomier og bekræft at $\\tilde{P}_k(x)$ for $k=0,1,2,3,4$ er nogenlunde ortogonale for det $L^2$-indre produkt på rummet af kontinuerte funktioner $[0,1] \\rightarrow \\mathbb{R}$.\n",
    "\n",
    "(b) I python sæt $t=n p$. $\\operatorname{linspace}(\\theta, 1,100)$ og dan matricen a_legendre af størrelsen $100 \\times 15$ hvis søjler består af $\\tilde{P}_k(\\mathrm{t})$ for $k=0,1, \\ldots, 13,14$.\n",
    "\n",
    "(c) Bestem konditionstallene for det mindste kvadraters problem for funktionen $f(t)=e^{\\sin (4 t)} / c$ fra afsnit 17.2 med ny koefficient matrix a_legendre.\n",
    "\n",
    "\n",
    "Der burde kunne ses at konditionstallene er væsentlig mindre end i afsnit 17.2, så approksimering af $f$ ved mindste kvadraters problemet via disse polynomier ville giver et væsentlig mere præcist svar."
   ]
  }
 ],
 "metadata": {
  "kernelspec": {
   "display_name": "Python 3 (ipykernel)",
   "language": "python",
   "name": "python3"
  },
  "language_info": {
   "codemirror_mode": {
    "name": "ipython",
    "version": 3
   },
   "file_extension": ".py",
   "mimetype": "text/x-python",
   "name": "python",
   "nbconvert_exporter": "python",
   "pygments_lexer": "ipython3",
   "version": "3.12.3"
  }
 },
 "nbformat": 4,
 "nbformat_minor": 5
}
